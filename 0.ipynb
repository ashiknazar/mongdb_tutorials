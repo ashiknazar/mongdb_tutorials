{
 "cells": [
  {
   "cell_type": "markdown",
   "metadata": {},
   "source": [
    "### commands\n",
    "- to start the server <br> \n",
    "`mongod`"
   ]
  },
  {
   "cell_type": "markdown",
   "metadata": {},
   "source": [
    "- to start mongodb shell <br>\n",
    "`mongo`"
   ]
  },
  {
   "cell_type": "markdown",
   "metadata": {},
   "source": [
    "- no need to create database explicitly can use command to use ,which will create db if not existing\n",
    "` use myDataBase`"
   ]
  },
  {
   "cell_type": "markdown",
   "metadata": {},
   "source": [
    "- create collection(table)\n",
    "`db.createCollection(\"mycollection\")`"
   ]
  },
  {
   "cell_type": "markdown",
   "metadata": {},
   "source": [
    "- Insert a single document(row)\n",
    "`db.mycollection.insertOne({name:\"jon\",age:30})`"
   ]
  },
  {
   "cell_type": "markdown",
   "metadata": {},
   "source": [
    "- insert many\n",
    "`db.mycollection.insertMany([{name:\"jas\",age:23},{name:\"kav\",age:22}])`"
   ]
  },
  {
   "cell_type": "markdown",
   "metadata": {},
   "source": [
    "- to retrieve document.find all\n",
    " `db.mycollection.find()`"
   ]
  },
  {
   "cell_type": "markdown",
   "metadata": {},
   "source": [
    "- find with query\n",
    " `db.mycollection.find({age:{$gt:20}})`"
   ]
  },
  {
   "cell_type": "markdown",
   "metadata": {},
   "source": [
    "- find one document\n",
    "`db.mycollection.findOne({name:\"jon\"})`"
   ]
  },
  {
   "cell_type": "markdown",
   "metadata": {},
   "source": [
    "- update one document\n",
    "`db.mycollection.updateOne({name:\"jon\"},{$set:{age:32}\n",
    "})`"
   ]
  },
  {
   "cell_type": "markdown",
   "metadata": {},
   "source": [
    "- delete one \n",
    "`db.mycollection.deleteOne({name:\"jon\"})`"
   ]
  },
  {
   "cell_type": "markdown",
   "metadata": {},
   "source": [
    "- delete multiple\n",
    "`db.mycollection.deleteMany({age:{$gt:32}})`"
   ]
  },
  {
   "cell_type": "markdown",
   "metadata": {},
   "source": [
    "`$gt`\n",
    "`$gte`\n",
    "`$lt`\n",
    "`$lte`\n",
    "`$eq`\n",
    "`$and`\n",
    "`$or`\n"
   ]
  },
  {
   "cell_type": "markdown",
   "metadata": {},
   "source": [
    "`db.mycollection.find({name:{$gt:20,$lt:34}})`"
   ]
  },
  {
   "cell_type": "markdown",
   "metadata": {},
   "source": [
    "- create index\n",
    "`db.mycollection.createIndex({name:1})`"
   ]
  },
  {
   "cell_type": "markdown",
   "metadata": {},
   "source": [
    "- list indexes\n",
    "`db.mycollection.getIndexes()`"
   ]
  },
  {
   "cell_type": "markdown",
   "metadata": {},
   "source": [
    "#### aggregations"
   ]
  },
  {
   "cell_type": "raw",
   "metadata": {
    "vscode": {
     "languageId": "raw"
    }
   },
   "source": [
    "db.mycollection.aggregate([\n",
    "    {$match:{city:\"delhi\"}},\n",
    "    {$group:{_id:\"age\",count:{$sum:1}}}\n",
    "])"
   ]
  },
  {
   "cell_type": "markdown",
   "metadata": {},
   "source": [
    "{ \"name\": \"Alice\", \"age\": 30, \"city\": \"New York\" }\n",
    "{ \"name\": \"Bob\", \"age\": 30, \"city\": \"New York\" }\n",
    "{ \"name\": \"Charlie\", \"age\": 25, \"city\": \"New York\" }\n",
    "{ \"name\": \"David\", \"age\": 30, \"city\": \"New York\" }\n",
    "{ \"name\": \"Eve\", \"age\": 25, \"city\": \"New York\" }\n",
    "{ \"name\": \"Frank\", \"age\": 35, \"city\": \"New York\" }\n"
   ]
  },
  {
   "cell_type": "markdown",
   "metadata": {},
   "source": [
    "[\n",
    "  { \"_id\": 30, \"count\": 3 },\n",
    "  { \"_id\": 25, \"count\": 2 },\n",
    "  { \"_id\": 35, \"count\": 1 }\n",
    "]\n"
   ]
  },
  {
   "cell_type": "markdown",
   "metadata": {},
   "source": [
    "###  Find the Average Age in a City"
   ]
  },
  {
   "cell_type": "markdown",
   "metadata": {},
   "source": [
    "db.myCollection.aggregate([\n",
    "  { $match: { city: \"New York\" } },\n",
    "  { $group: { _id: null, avgAge: { $avg: \"$age\" } } }\n",
    "])\n"
   ]
  },
  {
   "cell_type": "markdown",
   "metadata": {},
   "source": [
    "###  Sum of Sales by Product"
   ]
  },
  {
   "cell_type": "markdown",
   "metadata": {},
   "source": [
    "db.mycollection.aggregate([\n",
    "    {$group:{_id:\"$product\",sum:{$sum:\"$sales\"}}}\n",
    "\n",
    "])"
   ]
  },
  {
   "cell_type": "markdown",
   "metadata": {},
   "source": [
    "### Count of Documents by a Specific Field"
   ]
  },
  {
   "cell_type": "markdown",
   "metadata": {},
   "source": [
    "db.mycollection.aggregate([\n",
    "   {$group:{_id:\"$city\",count:{$sum:1}}}\n",
    "])"
   ]
  },
  {
   "cell_type": "markdown",
   "metadata": {},
   "source": [
    "### sorting group results"
   ]
  },
  {
   "cell_type": "markdown",
   "metadata": {},
   "source": [
    "db.mycollection.aggregate([\n",
    "    {$group:{_id:\"$age\",count:{$sum:1}}},\n",
    "    {$sort:{count:-1}}\n",
    "])"
   ]
  },
  {
   "cell_type": "markdown",
   "metadata": {},
   "source": [
    "### project specific fields"
   ]
  },
  {
   "cell_type": "markdown",
   "metadata": {},
   "source": [
    "db.myCollection.aggregate([\n",
    "  { $group: { _id: \"$city\", totalCount: { $sum: 1 } } },\n",
    "  { $project: { _id: 0, city: \"$_id\", totalCount: 1 } }\n",
    "])\n"
   ]
  },
  {
   "cell_type": "markdown",
   "metadata": {},
   "source": [
    "### . Using $lookup to Join Collections"
   ]
  },
  {
   "cell_type": "markdown",
   "metadata": {},
   "source": [
    "order and products"
   ]
  },
  {
   "cell_type": "raw",
   "metadata": {},
   "source": [
    "db.orders.aggregate([\n",
    "  {\n",
    "    $lookup: {\n",
    "      from: \"products\",      // the collection to join with\n",
    "      localField: \"productId\", // field from 'orders' collection\n",
    "      foreignField: \"_id\",    // field from 'products' collection\n",
    "      as: \"productDetails\"    // name of the new array field that will hold the joined data\n",
    "    }\n",
    "  }\n",
    "])\n"
   ]
  },
  {
   "cell_type": "markdown",
   "metadata": {},
   "source": [
    "###  Filter After Grouping"
   ]
  },
  {
   "cell_type": "raw",
   "metadata": {},
   "source": [
    "db.myCollection.aggregate([\n",
    "  { $group: { _id: \"$age\", count: { $sum: 1 } } },\n",
    "  { $match: { count: { $gt: 2 } } }\n",
    "])\n"
   ]
  },
  {
   "cell_type": "markdown",
   "metadata": {
    "vscode": {
     "languageId": "raw"
    }
   },
   "source": [
    "#### Projecting Fields After Grouping\n",
    "- This example first groups by city and calculates the sum of sales (amount), then projects only the city and the sum of sales in the final result."
   ]
  },
  {
   "cell_type": "raw",
   "metadata": {
    "vscode": {
     "languageId": "raw"
    }
   },
   "source": [
    "db.sales.aggregate([\n",
    "  { $group: { _id: \"$city\", totalSales: { $sum: \"$amount\" } } },\n",
    "  { $project: { _id: 0, city: \"$_id\", totalSales: 1 } }\n",
    "])\n"
   ]
  },
  {
   "cell_type": "markdown",
   "metadata": {},
   "source": [
    "### Array Operations in Aggregation\n",
    "- This example finds the maximum score from a student's scores array."
   ]
  },
  {
   "cell_type": "raw",
   "metadata": {},
   "source": [
    "db.students.aggregate([\n",
    "  { $unwind: \"$scores\" }, // Unwinds the 'scores' array into separate documents\n",
    "  { $group: { _id: \"$name\", maxScore: { $max: \"$scores\" } } }\n",
    "])\n"
   ]
  },
  {
   "cell_type": "markdown",
   "metadata": {},
   "source": [
    "###  Using $project to Include or Exclude Fields\n",
    "- This example filters the fields in the final result by excluding certain fields."
   ]
  },
  {
   "cell_type": "raw",
   "metadata": {},
   "source": [
    "db.myCollection.aggregate([\n",
    "  { $project: { name: 1, city: 1, _id: 0 } }\n",
    "])\n"
   ]
  },
  {
   "cell_type": "markdown",
   "metadata": {
    "vscode": {
     "languageId": "raw"
    }
   },
   "source": [
    "___"
   ]
  },
  {
   "cell_type": "markdown",
   "metadata": {},
   "source": [
    "###  MongoDB in Python (Using pymongo)"
   ]
  },
  {
   "cell_type": "markdown",
   "metadata": {},
   "source": [
    "```\n",
    "pip install pymongo\n"
   ]
  },
  {
   "cell_type": "code",
   "execution_count": null,
   "metadata": {},
   "outputs": [],
   "source": [
    "from pymongo import MongoClient\n",
    "\n",
    "# Connect to MongoDB server\n",
    "client = MongoClient(\"mongodb://localhost:27017/\")\n",
    "db = client[\"myDatabase\"]\n",
    "collection = db[\"myCollection\"]\n",
    "\n",
    "# Insert a document\n",
    "collection.insert_one({\"name\": \"Charlie\", \"age\": 40, \"city\": \"Miami\"})\n",
    "\n",
    "# Query the database\n",
    "document = collection.find_one({\"name\": \"Charlie\"})\n",
    "print(document)\n"
   ]
  },
  {
   "cell_type": "markdown",
   "metadata": {},
   "source": []
  }
 ],
 "metadata": {
  "kernelspec": {
   "display_name": "base",
   "language": "python",
   "name": "python3"
  },
  "language_info": {
   "codemirror_mode": {
    "name": "ipython",
    "version": 3
   },
   "file_extension": ".py",
   "mimetype": "text/x-python",
   "name": "python",
   "nbconvert_exporter": "python",
   "pygments_lexer": "ipython3",
   "version": "3.12.7"
  }
 },
 "nbformat": 4,
 "nbformat_minor": 2
}
